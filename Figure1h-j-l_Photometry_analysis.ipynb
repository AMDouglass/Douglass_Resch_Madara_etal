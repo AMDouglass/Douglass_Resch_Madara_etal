{
 "cells": [
  {
   "cell_type": "code",
   "execution_count": 1,
   "id": "ceff0c6c",
   "metadata": {},
   "outputs": [],
   "source": [
    "import os\n",
    "from pathlib import Path\n",
    "import bottleneck as bn\n",
    "import numpy as  np\n",
    "import pandas as pd\n",
    "import scipy.stats as st\n",
    "from scipy.signal import medfilt, butter, filtfilt\n",
    "from scipy.stats import linregress\n",
    "\n",
    "import matplotlib.pyplot as plt\n",
    "\n",
    "plt.rcParams['legend.fontsize'] = 12\n",
    "plt.rcParams['font.size'] = 14\n",
    "plt.rcParams['axes.titlesize'] = 14\n",
    "plt.rcParams['axes.xmargin'] = 0\n",
    "plt.rcParams['figure.dpi'] = 150\n"
   ]
  },
  {
   "cell_type": "markdown",
   "id": "7a841c48",
   "metadata": {},
   "source": [
    "#### First place the contents of Douglass_Resch_Madara_etal_2023_Data inside the folder with the same name"
   ]
  },
  {
   "cell_type": "code",
   "execution_count": 2,
   "id": "df9c531c",
   "metadata": {},
   "outputs": [],
   "source": [
    "# Set up your base directory\n",
    "base_dir = Path('./Douglass_Resch_Madara_etal_2023_Data/Photometry')\n"
   ]
  },
  {
   "cell_type": "markdown",
   "id": "663f2b94",
   "metadata": {},
   "source": [
    "## Figure 1h"
   ]
  },
  {
   "cell_type": "markdown",
   "id": "3d28be3e",
   "metadata": {},
   "source": [
    "#### Load data"
   ]
  },
  {
   "cell_type": "code",
   "execution_count": 3,
   "id": "0df13b43",
   "metadata": {},
   "outputs": [],
   "source": [
    "data_path = Path(f'{base_dir}/Figure1h.csv')\n",
    "\n",
    "data = pd.read_csv(data_path, header=[1,2,3,4], index_col=0).reset_index(drop=True)\n",
    "data = data.melt(var_name=['Mouse','Run','Experiment','Channel'], value_name='Signal')\n",
    "data = data.astype({'Signal':'float'})\n"
   ]
  },
  {
   "cell_type": "code",
   "execution_count": 4,
   "id": "95bef94a",
   "metadata": {},
   "outputs": [],
   "source": [
    "# Set sampling rate\n",
    "sampling = 20 # Hz\n"
   ]
  },
  {
   "cell_type": "code",
   "execution_count": 5,
   "id": "e7357170",
   "metadata": {},
   "outputs": [
    {
     "data": {
      "text/html": [
       "<div>\n",
       "<style scoped>\n",
       "    .dataframe tbody tr th:only-of-type {\n",
       "        vertical-align: middle;\n",
       "    }\n",
       "\n",
       "    .dataframe tbody tr th {\n",
       "        vertical-align: top;\n",
       "    }\n",
       "\n",
       "    .dataframe thead th {\n",
       "        text-align: right;\n",
       "    }\n",
       "</style>\n",
       "<table border=\"1\" class=\"dataframe\">\n",
       "  <thead>\n",
       "    <tr style=\"text-align: right;\">\n",
       "      <th></th>\n",
       "      <th>Mouse</th>\n",
       "      <th>Run</th>\n",
       "      <th>Experiment</th>\n",
       "      <th>Channel</th>\n",
       "      <th>Signal</th>\n",
       "    </tr>\n",
       "  </thead>\n",
       "  <tbody>\n",
       "    <tr>\n",
       "      <th>0</th>\n",
       "      <td>Mouse 1</td>\n",
       "      <td>Run 1</td>\n",
       "      <td>Vehicle</td>\n",
       "      <td>465nm</td>\n",
       "      <td>1.489554</td>\n",
       "    </tr>\n",
       "    <tr>\n",
       "      <th>1</th>\n",
       "      <td>Mouse 1</td>\n",
       "      <td>Run 1</td>\n",
       "      <td>Vehicle</td>\n",
       "      <td>465nm</td>\n",
       "      <td>1.499878</td>\n",
       "    </tr>\n",
       "    <tr>\n",
       "      <th>2</th>\n",
       "      <td>Mouse 1</td>\n",
       "      <td>Run 1</td>\n",
       "      <td>Vehicle</td>\n",
       "      <td>465nm</td>\n",
       "      <td>1.513543</td>\n",
       "    </tr>\n",
       "    <tr>\n",
       "      <th>3</th>\n",
       "      <td>Mouse 1</td>\n",
       "      <td>Run 1</td>\n",
       "      <td>Vehicle</td>\n",
       "      <td>465nm</td>\n",
       "      <td>1.491679</td>\n",
       "    </tr>\n",
       "    <tr>\n",
       "      <th>4</th>\n",
       "      <td>Mouse 1</td>\n",
       "      <td>Run 1</td>\n",
       "      <td>Vehicle</td>\n",
       "      <td>465nm</td>\n",
       "      <td>1.515567</td>\n",
       "    </tr>\n",
       "    <tr>\n",
       "      <th>...</th>\n",
       "      <td>...</td>\n",
       "      <td>...</td>\n",
       "      <td>...</td>\n",
       "      <td>...</td>\n",
       "      <td>...</td>\n",
       "    </tr>\n",
       "    <tr>\n",
       "      <th>1344027</th>\n",
       "      <td>Mouse 4</td>\n",
       "      <td>Run 2</td>\n",
       "      <td>CNO</td>\n",
       "      <td>405nm</td>\n",
       "      <td>0.794476</td>\n",
       "    </tr>\n",
       "    <tr>\n",
       "      <th>1344028</th>\n",
       "      <td>Mouse 4</td>\n",
       "      <td>Run 2</td>\n",
       "      <td>CNO</td>\n",
       "      <td>405nm</td>\n",
       "      <td>0.788403</td>\n",
       "    </tr>\n",
       "    <tr>\n",
       "      <th>1344029</th>\n",
       "      <td>Mouse 4</td>\n",
       "      <td>Run 2</td>\n",
       "      <td>CNO</td>\n",
       "      <td>405nm</td>\n",
       "      <td>0.791844</td>\n",
       "    </tr>\n",
       "    <tr>\n",
       "      <th>1344030</th>\n",
       "      <td>Mouse 4</td>\n",
       "      <td>Run 2</td>\n",
       "      <td>CNO</td>\n",
       "      <td>405nm</td>\n",
       "      <td>0.785771</td>\n",
       "    </tr>\n",
       "    <tr>\n",
       "      <th>1344031</th>\n",
       "      <td>Mouse 4</td>\n",
       "      <td>Run 2</td>\n",
       "      <td>CNO</td>\n",
       "      <td>405nm</td>\n",
       "      <td>0.792451</td>\n",
       "    </tr>\n",
       "  </tbody>\n",
       "</table>\n",
       "<p>1344032 rows × 5 columns</p>\n",
       "</div>"
      ],
      "text/plain": [
       "           Mouse    Run Experiment Channel    Signal\n",
       "0        Mouse 1  Run 1    Vehicle   465nm  1.489554\n",
       "1        Mouse 1  Run 1    Vehicle   465nm  1.499878\n",
       "2        Mouse 1  Run 1    Vehicle   465nm  1.513543\n",
       "3        Mouse 1  Run 1    Vehicle   465nm  1.491679\n",
       "4        Mouse 1  Run 1    Vehicle   465nm  1.515567\n",
       "...          ...    ...        ...     ...       ...\n",
       "1344027  Mouse 4  Run 2        CNO   405nm  0.794476\n",
       "1344028  Mouse 4  Run 2        CNO   405nm  0.788403\n",
       "1344029  Mouse 4  Run 2        CNO   405nm  0.791844\n",
       "1344030  Mouse 4  Run 2        CNO   405nm  0.785771\n",
       "1344031  Mouse 4  Run 2        CNO   405nm  0.792451\n",
       "\n",
       "[1344032 rows x 5 columns]"
      ]
     },
     "execution_count": 5,
     "metadata": {},
     "output_type": "execute_result"
    }
   ],
   "source": [
    "data"
   ]
  }
 ],
 "metadata": {
  "kernelspec": {
   "display_name": "Python 3 (ipykernel)",
   "language": "python",
   "name": "python3"
  },
  "language_info": {
   "codemirror_mode": {
    "name": "ipython",
    "version": 3
   },
   "file_extension": ".py",
   "mimetype": "text/x-python",
   "name": "python",
   "nbconvert_exporter": "python",
   "pygments_lexer": "ipython3",
   "version": "3.10.9"
  }
 },
 "nbformat": 4,
 "nbformat_minor": 5
}
